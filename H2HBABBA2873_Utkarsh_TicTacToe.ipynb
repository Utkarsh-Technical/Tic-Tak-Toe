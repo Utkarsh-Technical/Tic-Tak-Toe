{
  "nbformat": 4,
  "nbformat_minor": 0,
  "metadata": {
    "colab": {
      "name": "H2HBABBA2873_Utkarsh_TicTacToe.ipynb",
      "private_outputs": true,
      "provenance": [],
      "collapsed_sections": [
        "xQ6ksFL3w4J-",
        "iyYfStAEmxil"
      ]
    },
    "kernelspec": {
      "name": "python3",
      "display_name": "Python 3"
    },
    "language_info": {
      "name": "python"
    }
  },
  "cells": [
    {
      "cell_type": "markdown",
      "metadata": {
        "id": "xQ6ksFL3w4J-"
      },
      "source": [
        "# Human vs Human"
      ]
    },
    {
      "cell_type": "code",
      "metadata": {
        "id": "0cnBWm1Qghr1"
      },
      "source": [
        "#Display Board\n",
        "def display_board():\n",
        "    print()\n",
        "    print('                               reference:')\n",
        "    print('     |    |     ',10*' ','     |    |   ',)\n",
        "    print('  '+board[0]+'  | '+board[1]+'  | '+board[2]+'   ',10*' ','  1  | 2  | 3  ')\n",
        "    print('-----+----+-----',10*' ',\"-----+----+-----\")\n",
        "    print('     |    |     ',10*' ',\"     |    |     \")\n",
        "    print('  '+board[3]+'  | '+board[4]+'  | '+board[5]+'   ',10*' ',\"  4  | 5  | 6   \")\n",
        "    print('-----+----+-----',10*' ',\"-----+----+-----\")\n",
        "    print('     |    |     ',10*' ',\"     |    |      \")\n",
        "    print('  '+board[6]+'  | '+board[7]+'  | '+board[8]+'   ',10*' ',\"  7  | 8  | 9    \\n\\n\")"
      ],
      "execution_count": null,
      "outputs": []
    },
    {
      "cell_type": "code",
      "metadata": {
        "id": "gX0AeBmPgsq5"
      },
      "source": [
        "# Handle a single turn of an arbitrary player\n",
        "def handle_turn(player):\n",
        "    print(player +\"'s turn\")\n",
        "    position = input(\"Choose a position from 1-9: \")\n",
        "\n",
        "    valid = False\n",
        "    while not valid:\n",
        "      #Check for the valid input\n",
        "      while position not in [\"1\",\"2\",\"3\",\"4\",\"5\",\"6\",\"7\",\"8\",\"9\"]:\n",
        "        position = input(\"Choose a position from 1-9: \")\n",
        "      #String to integer\n",
        "      position = int(position) - 1\n",
        "      #Check for availability on board position\n",
        "      if board[position] == \"-\":\n",
        "        valid = True\n",
        "      else:\n",
        "        print(\"You can't go there. Go Again\")\n",
        "\n",
        "    board[position] = player\n",
        "    display_board(); "
      ],
      "execution_count": null,
      "outputs": []
    },
    {
      "cell_type": "code",
      "metadata": {
        "id": "tlZ5_cJ8hv-a"
      },
      "source": [
        "def check_if_game_over():\n",
        "  check_for_winner()\n",
        "  check_if_tie()"
      ],
      "execution_count": null,
      "outputs": []
    },
    {
      "cell_type": "code",
      "metadata": {
        "id": "NTHZBMcnh_Bj"
      },
      "source": [
        "def check_for_winner():\n",
        "\n",
        "  #set up global variables\n",
        "  global winner\n",
        "  # check rows\n",
        "  row_winner = check_rows()\n",
        "  # check coloums\n",
        "  column_winner = check_columns()\n",
        "  # check diagonals\n",
        "  diagonal_winner = check_diagonals()\n",
        "  if row_winner:\n",
        "    winner = row_winner\n",
        "  elif column_winner:\n",
        "    winner = column_winner\n",
        "  elif diagonal_winner:\n",
        "    winner = diagonal_winner\n",
        "  else:\n",
        "    winner = \"None\"\n",
        "    return\n"
      ],
      "execution_count": null,
      "outputs": []
    },
    {
      "cell_type": "code",
      "metadata": {
        "id": "RopV_a21mLvP"
      },
      "source": [
        "def check_rows():\n",
        "  # Set Up global variables\n",
        "  global game_still_going\n",
        "  # check if any the rows have all the same value (and is not empty)\n",
        "  row_1 = board[0] == board [1] == board[2] != \"-\"\n",
        "  row_2 = board[3] == board [4] == board[5] != \"-\"\n",
        "  row_3 = board[6] == board [7] == board[8] != \"-\"\n",
        "  # Return the Winner (X or O)\n",
        "  if row_1 or row_2 or row_3:\n",
        "    game_still_going = False\n",
        "  if row_1:\n",
        "    return board[0]\n",
        "  elif row_2:\n",
        "    return board[3]\n",
        "  elif row_3:\n",
        "    return board[6] \n",
        "  return"
      ],
      "execution_count": null,
      "outputs": []
    },
    {
      "cell_type": "code",
      "metadata": {
        "id": "2slA6L0CmUJW"
      },
      "source": [
        "def check_columns():\n",
        "  # Set Up global variables\n",
        "  global game_still_going\n",
        "  # check if any the column have all the same value (and is not empty)\n",
        "  coloum_1 = board[0] == board [3] == board[6] != \"-\"\n",
        "  coloum_2 = board[1] == board [4] == board[7] != \"-\"\n",
        "  coloum_3 = board[2] == board [5] == board[8] != \"-\"\n",
        "  # If any columns does have a match, flag that there is a win\n",
        "  if coloum_1 or coloum_2 or coloum_3:\n",
        "    game_still_going = False\n",
        "  # Return the Winner (X or O)\n",
        "  if coloum_1:\n",
        "    return board[0]\n",
        "  elif coloum_2:\n",
        "    return board[1]\n",
        "  elif coloum_3:\n",
        "    return board[2] \n",
        "  return"
      ],
      "execution_count": null,
      "outputs": []
    },
    {
      "cell_type": "code",
      "metadata": {
        "id": "tcDB7E_-mast"
      },
      "source": [
        "def check_diagonals():\n",
        "  # Set Up global variables\n",
        "  global game_still_going\n",
        "  # check if any the diagonals have all the same value (and is not empty)\n",
        "  diagonals_1 = board[0] == board [4] == board[8] != \"-\"\n",
        "  diagonals_2 = board[6] == board [4] == board[2] != \"-\"\n",
        "  # If any diagonals does have a match, flag that there is a win\n",
        "  if diagonals_1 or diagonals_2 :\n",
        "    game_still_going = False\n",
        "  # Return the Winner (X or O)\n",
        "  if diagonals_1:\n",
        "    return board[0]\n",
        "  elif diagonals_2:\n",
        "    return board[6] \n",
        "  return"
      ],
      "execution_count": null,
      "outputs": []
    },
    {
      "cell_type": "code",
      "metadata": {
        "id": "sbHp26L9iPwl"
      },
      "source": [
        "def check_if_tie():\n",
        "  global game_still_going\n",
        "  if \"-\" not in board:\n",
        "    game_still_going = False\n",
        "  return"
      ],
      "execution_count": null,
      "outputs": []
    },
    {
      "cell_type": "code",
      "metadata": {
        "id": "T-naMYIIiabr"
      },
      "source": [
        "# Change X to O\n",
        "def flip_player():\n",
        "  #global variable\n",
        "  global current_player\n",
        "  # If the current player was X, then change it to O\n",
        "  if current_player == 'X':\n",
        "    current_player = \"O\"\n",
        "  # If the current player was X, then change it to X\n",
        "  elif current_player == \"O\":\n",
        "    current_player = \"X\"\n",
        "  return"
      ],
      "execution_count": null,
      "outputs": []
    },
    {
      "cell_type": "code",
      "metadata": {
        "id": "1Nk_miM-gvy7"
      },
      "source": [
        "def play_game():\n",
        "    global board, game_still_going, winner, current_player\n",
        "    board = [\"-\", \"-\", \"-\",\n",
        "         \"-\", \"-\", \"-\",\n",
        "         \"-\", \"-\", \"-\"]\n",
        "    \n",
        "    \n",
        "    # If game is still going\n",
        "    game_still_going = True \n",
        "\n",
        "    # Who won ? Or tie ?\n",
        "    winner = True\n",
        "\n",
        "    # Who Turn is it\n",
        "    current_player = \"X\" \n",
        "    \n",
        "    # Display initial board\n",
        "    display_board()\n",
        "    \n",
        "    while game_still_going:\n",
        "\n",
        "      #handle a single turn of an arbitrary player\n",
        "      handle_turn(current_player);\n",
        "\n",
        "      #check if the game has ended\n",
        "      check_if_game_over()\n",
        "\n",
        "      #Flip to the other player\n",
        "      flip_player()\n",
        "    \n",
        "    #The game has ended\n",
        "    if winner == \"X\" or winner == \"O\":\n",
        "      print(\"Congratulate! 🏆 \" + winner + \" wins the match\")\n",
        "      if not new_game():\n",
        "        return False\n",
        "                \n",
        "    elif winner == None:\n",
        "      print(\"MATCH DRAW! ✌ Well Played ✌\")\n",
        "      if not new_game():\n",
        "        return False"
      ],
      "execution_count": null,
      "outputs": []
    },
    {
      "cell_type": "markdown",
      "metadata": {
        "id": "NW3PIjIJxCj-"
      },
      "source": [
        "# Computer vs Human"
      ]
    },
    {
      "cell_type": "code",
      "metadata": {
        "id": "1KRAooxjbsKV"
      },
      "source": [
        "def display_board_auto():\n",
        "    print()\n",
        "    print('                               reference:')\n",
        "    print('     |    |     ',10*' ','     |    |   ',)\n",
        "    print('  '+board[1]+'  | '+board[2]+'  | '+board[3]+'   ',10*' ','  1  | 2  | 3  ')\n",
        "    print('-----+----+-----',10*' ',\"-----+----+-----\")\n",
        "    print('     |    |     ',10*' ',\"     |    |     \")\n",
        "    print('  '+board[4]+'  | '+board[5]+'  | '+board[6]+'   ',10*' ',\"  4  | 5  | 6   \")\n",
        "    print('-----+----+-----',10*' ',\"-----+----+-----\")\n",
        "    print('     |    |     ',10*' ',\"     |    |      \")\n",
        "    print('  '+board[7]+'  | '+board[8]+'  | '+board[9]+'   ',10*' ',\"  7  | 8  | 9    \\n\\n\")"
      ],
      "execution_count": null,
      "outputs": []
    },
    {
      "cell_type": "code",
      "metadata": {
        "id": "Ko68hme3bsBe"
      },
      "source": [
        "def human_input(mark):\n",
        "    while True:\n",
        "        inp = input(f\"[HUMAN] '{mark}' Enter your choice:\")\n",
        "        if inp.isdigit() and int(inp) <10 and int(inp) >0:\n",
        "            inp = int(inp)\n",
        "            if board[inp] == \" \":\n",
        "                return inp\n",
        "            else:\n",
        "                print(f\"[HUMAN] '{mark}' place already taken.\")\n",
        "        else:\n",
        "            print(f\"[HUMAN] '{mark}' Enter valid option (1 - 9).\")"
      ],
      "execution_count": null,
      "outputs": []
    },
    {
      "cell_type": "code",
      "metadata": {
        "id": "wsdNmYU9br1r"
      },
      "source": [
        "def winning(mark,board):\n",
        "    winning_place = [[1,2,3],[4,5,6],[7,8,9],[1,4,7],[2,5,8],[3,6,9],[1,5,9],[3,5,7]]\n",
        "    for win_place in winning_place:\n",
        "        if board[win_place[0]] == board[win_place[1]] == board[win_place[2]] == mark:\n",
        "            return True"
      ],
      "execution_count": null,
      "outputs": []
    },
    {
      "cell_type": "code",
      "metadata": {
        "id": "TwttRZTub8ua"
      },
      "source": [
        "def win_move(i,board,mark):\n",
        "    temp_board = list(board)\n",
        "    temp_board[i] = mark\n",
        "    if winning(mark,temp_board):\n",
        "        return True\n",
        "    else:\n",
        "        return False"
      ],
      "execution_count": null,
      "outputs": []
    },
    {
      "cell_type": "code",
      "metadata": {
        "id": "golGZD9bb9mP"
      },
      "source": [
        "def cpu_input(cpu , human , board):\n",
        "    for i in range(1,10):\n",
        "        if board[i] == ' ' and win_move(i,board,cpu):\n",
        "            return i\n",
        "    for i in range(1,10):\n",
        "        if board[i] == ' ' and win_move(i,board,human):\n",
        "            return i\n",
        "    for i in [5,1,7,3,2,9,8,6,4]:\n",
        "        if board[i] == ' ':\n",
        "            return i"
      ],
      "execution_count": null,
      "outputs": []
    },
    {
      "cell_type": "code",
      "metadata": {
        "id": "w1RlUVg7b9Zt"
      },
      "source": [
        "def win_check(human , cpu):\n",
        "    winning_place = [[1,2,3],[4,5,6],[7,8,9],[1,4,7],[2,5,8],[3,6,9],[1,5,9],[3,5,7]]\n",
        "    for win_place in winning_place:\n",
        "        if board[win_place[0]] == board[win_place[1]] == board[win_place[2]] == human:\n",
        "            print('Congratulate!🏆 you win the match')\n",
        "            if not new_game():\n",
        "                return False\n",
        "        elif board[win_place[0]] == board[win_place[1]] == board[win_place[2]] == cpu:\n",
        "                print('You Lost 😞 the match')\n",
        "                if not new_game():\n",
        "                    return False\n",
        "    if ' ' not in board:\n",
        "        print('MATCH DRAW! ✌ Well Played ✌')\n",
        "        if not new_game():\n",
        "            return False\n",
        "    return True"
      ],
      "execution_count": null,
      "outputs": []
    },
    {
      "cell_type": "code",
      "metadata": {
        "id": "YVnmGH8LxK26"
      },
      "source": [
        "def user_choice():\n",
        "    while True:\n",
        "        inp = input('[HUMAN]Choose your mark[x/o]: ')\n",
        "        if inp in ['x' , 'X']:\n",
        "            print('[HUMAN]You choose \"X\".\\n[HUMAN]You play first.')\n",
        "            return 'x','o'\n",
        "        elif inp in ['O','o']:\n",
        "            print('[HUMAN] You choose \"O\".\\n[HUMAN] CPU plays first.')\n",
        "            return 'o','x'\n",
        "        else:\n",
        "            print('[HUMAN] Enter correct input!')"
      ],
      "execution_count": null,
      "outputs": []
    },
    {
      "cell_type": "code",
      "metadata": {
        "id": "wbWv60NCcJ_g"
      },
      "source": [
        "def main_game():\n",
        "    global board\n",
        "    play = True\n",
        "    board =['',' ',' ',' ',' ',' ',' ',' ',' ',' ']\n",
        "    human , cpu = user_choice()\n",
        "    display_board_auto()\n",
        "    while play:\n",
        "        if human == 'x':\n",
        "            x = human_input(human)\n",
        "            board[x] = human\n",
        "            display_board_auto()\n",
        "            play = win_check(human , cpu)\n",
        "            if play:\n",
        "                o = cpu_input(cpu , human , board)\n",
        "                print(f'[CPU] Entered:{o}')\n",
        "                board[o] = cpu\n",
        "                display_board_auto()\n",
        "                play = win_check(human , cpu)\n",
        "        else:\n",
        "            x = cpu_input(cpu , human , board)\n",
        "            print(f'[CPU] Entered:{x}')\n",
        "            board[x] = cpu\n",
        "            display_board_auto()\n",
        "            play = win_check(human , cpu)\n",
        "            if play:\n",
        "                o = human_input(human)\n",
        "                board[o] = human\n",
        "                display_board_auto()\n",
        "                play = win_check(human , cpu)\n"
      ],
      "execution_count": null,
      "outputs": []
    },
    {
      "cell_type": "markdown",
      "metadata": {
        "id": "iyYfStAEmxil"
      },
      "source": [
        "# Lets Start\n"
      ]
    },
    {
      "cell_type": "code",
      "metadata": {
        "id": "rtvGZHS5b9di"
      },
      "source": [
        "def new_game():\n",
        "    while True:\n",
        "        nxt = input('Do you want to play again?(y/n):')\n",
        "        if nxt in['y','Y']:\n",
        "            again = True\n",
        "            break\n",
        "        elif nxt in ['n','N']:\n",
        "            print('Have a great day 😎')\n",
        "            again = False\n",
        "            break\n",
        "        else:\n",
        "            print('Enter correct input')\n",
        "    if again:\n",
        "        print('__________💥NEW GAME💥__________')\n",
        "        choice_entry()\n",
        "    else:\n",
        "        return False"
      ],
      "execution_count": null,
      "outputs": []
    },
    {
      "cell_type": "code",
      "metadata": {
        "id": "vW3qeKNugDud"
      },
      "source": [
        "print(\"Hey!✋ Welcome to the Tic Tak Toe Game 🙂\")\n",
        "def choice_entry():\n",
        "  choice = input(\"Enter your choice \\n 1.) Human vs Human \\n 2.) Computer vs Human \\n\")\n",
        "  while choice not in [\"1\",\"2\"]:\n",
        "          choice = input(\"Please Choose a valid input. \\n Enter your choice \\n 1.) Human vs Human \\n 2.) Computer vs Human \\n\")\n",
        "\n",
        "  if (choice == \"1\"):\n",
        "    play_game()\n",
        "\n",
        "  else: \n",
        "    main_game()\n",
        "\n",
        "choice_entry()"
      ],
      "execution_count": null,
      "outputs": []
    }
  ]
}